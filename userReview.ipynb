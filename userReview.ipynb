{
 "cells": [
  {
   "cell_type": "code",
   "execution_count": 20,
   "source": [
    "import requests\r\n",
    "import pandas as pd\r\n",
    "\r\n",
    "\r\n",
    "url = \"https://imdb8.p.rapidapi.com/title/get-user-reviews\"\r\n",
    "\r\n",
    "querystring = {\"tconst\":\"tt10919420\"}\r\n",
    "\r\n",
    "headers = {\r\n",
    "    'x-rapidapi-host': \"imdb8.p.rapidapi.com\",\r\n",
    "    'x-rapidapi-key': \"6c9082d56cmsh31a1e8b13d32f45p1f703ejsn8c2eb01e7e61\"\r\n",
    "    }\r\n",
    "\r\n",
    "response = requests.request(\"GET\", url, headers=headers, params=querystring)\r\n",
    "\r\n",
    "\r\n",
    "re = response.json()\r\n",
    "reviews = re['reviews']\r\n",
    "\r\n",
    "review = {}\r\n",
    "\r\n",
    "for i in range(len(reviews)):\r\n",
    "   review[reviews[i]['reviewTitle']] = reviews[i]['reviewText']\r\n",
    "   reviewTitle = list(review.keys())\r\n",
    "   reviewContent = list(review.values())\r\n",
    "   #print(f\"<{i}> Title: \" + reviewTitle[i] +\"\\n\"+ f\"<{i}> Content: \" + reviewContent[i] + \"\\n\")\r\n",
    "\r\n"
   ],
   "outputs": [],
   "metadata": {}
  },
  {
   "cell_type": "code",
   "execution_count": null,
   "source": [],
   "outputs": [],
   "metadata": {}
  }
 ],
 "metadata": {
  "orig_nbformat": 4,
  "language_info": {
   "name": "python",
   "version": "3.7.3",
   "mimetype": "text/x-python",
   "codemirror_mode": {
    "name": "ipython",
    "version": 3
   },
   "pygments_lexer": "ipython3",
   "nbconvert_exporter": "python",
   "file_extension": ".py"
  },
  "kernelspec": {
   "name": "python3",
   "display_name": "Python 3.7.3 64-bit"
  },
  "interpreter": {
   "hash": "08d1348dd399c72b8edd158f8cb3f81f6c7a2038c3e33f9c52d1e6977961f28b"
  }
 },
 "nbformat": 4,
 "nbformat_minor": 2
}